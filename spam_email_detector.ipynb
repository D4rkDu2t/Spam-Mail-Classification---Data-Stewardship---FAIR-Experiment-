{
 "cells": [
  {
   "cell_type": "markdown",
   "metadata": {},
   "source": [
    "# Spam Email Detection using Neural Networks"
   ]
  },
  {
   "cell_type": "markdown",
   "metadata": {},
   "source": [
    "## Libraries importation"
   ]
  },
  {
   "cell_type": "code",
   "execution_count": 3,
   "metadata": {},
   "outputs": [],
   "source": [
    "import pandas as pd\n",
    "import seaborn as sns\n",
    "import matplotlib.pyplot as plt\n",
    "import requests\n",
    "\n",
    "from collections import Counter\n",
    "from dbrepo.RestClient import RestClient\n",
    "from sklearn.feature_extraction.text import TfidfVectorizer\n",
    "from sklearn.metrics import accuracy_score, precision_score, recall_score, f1_score\n",
    "from sklearn.metrics import confusion_matrix\n",
    "from tensorflow.keras.models import Sequential, load_model\n",
    "from tensorflow.keras.layers import Dense, Dropout"
   ]
  },
  {
   "cell_type": "markdown",
   "metadata": {},
   "source": [
    "## Input data loading"
   ]
  },
  {
   "cell_type": "markdown",
   "metadata": {},
   "source": [
    "In this part we will load the data from DBREPO, using the predefined sets (train, test, valid). \n",
    "\n",
    "For more information on how the subsets were created see the `data_preprocessing.ipynb` notebook or the [spam_mail_detector](https://test.dbrepo.tuwien.ac.at/database/7105b5ed-3020-42ad-8f67-f670c2f6fa18/info) database on DBREPO.\n"
   ]
  },
  {
   "cell_type": "code",
   "execution_count": 30,
   "metadata": {},
   "outputs": [],
   "source": [
    "# Initialize the RestClient\n",
    "dbrepo_client = RestClient(endpoint=\"https://test.dbrepo.tuwien.ac.at\")\n",
    "\n",
    "# Database and subset IDs\n",
    "database_id = \"7105b5ed-3020-42ad-8f67-f670c2f6fa18\"\n",
    "train_subset_id = \"730fea6e-187a-11f0-b919-f68d2490d0da\"\n",
    "test_subset_id = \"3c48ba6e-187b-11f0-a3a8-2ebef9ba1aed\"\n",
    "val_subset_id = \"08c5056c-187b-11f0-b919-f68d2490d0da\"\n",
    "\n",
    "# Load datasets from DBRepo\n",
    "train_set = dbrepo_client.get_subset_data(database_id=database_id, subset_id=train_subset_id, size=4000)\n",
    "test_set = dbrepo_client.get_subset_data(database_id=database_id, subset_id=test_subset_id, size=1200)\n",
    "validation_set = dbrepo_client.get_subset_data(database_id=database_id, subset_id=val_subset_id, size=1000)\n",
    "\n",
    "# The label_num column is saved as a boolean in DBRepo, but this converts label_num to a string with \"true\" or \"false\" \n",
    "# To be more practical, we convert it to 1 or 0 respectively\n",
    "train_set[\"label_num\"] = train_set[\"label_num\"].apply(lambda x: 1 if x == \"true\" else 0)\n",
    "test_set[\"label_num\"] = test_set[\"label_num\"].apply(lambda x: 1 if x == \"true\" else 0)\n",
    "validation_set[\"label_num\"] = validation_set[\"label_num\"].apply(lambda x: 1 if x == \"true\" else 0)\n",
    "\n",
    "# Get values from class\n",
    "y_train = train_set[\"label_num\"].values\n",
    "y_test = test_set[\"label_num\"].values\n",
    "y_val = validation_set[\"label_num\"].values"
   ]
  },
  {
   "cell_type": "markdown",
   "metadata": {},
   "source": [
    "## Embeddings generation"
   ]
  },
  {
   "cell_type": "markdown",
   "metadata": {},
   "source": [
    "Here we will vectorize the preprocessed emails (`lemmatized_text`) using `TfidfVectorizer` from `sklearn`."
   ]
  },
  {
   "cell_type": "code",
   "execution_count": 31,
   "metadata": {},
   "outputs": [],
   "source": [
    "# Initialize vectorizer\n",
    "vectorizer = TfidfVectorizer()\n",
    "\n",
    "# Fit vectorizer on training set\n",
    "vectorizer.fit(train_set[\"lemmatized_text\"])\n",
    "\n",
    "def generate_embeddings(df):\n",
    "    embeddings = vectorizer.transform(df[\"lemmatized_text\"])\n",
    "    return embeddings.toarray()\n",
    "\n",
    "embeddings_train = generate_embeddings(train_set)\n",
    "embeddings_test = generate_embeddings(test_set)\n",
    "embeddings_val = generate_embeddings(validation_set)"
   ]
  },
  {
   "cell_type": "markdown",
   "metadata": {},
   "source": [
    "## Model training"
   ]
  },
  {
   "cell_type": "markdown",
   "metadata": {},
   "source": [
    "Here we define the model architecture and train the model using the training set. In this case we will use a simple feedforward neural network with two hidden layers of 15 and 10 neurons, respectively. The activation function used is `relu` and the output layer uses `sigmoid` activation function. \n",
    "\n",
    "Then the model will be compiled using `binary_crossentropy` as loss function and `adam` as optimizer. The model will be trained for 10 epochs with a batch size of 32. And finally, save the model to a file in the `output` directory."
   ]
  },
  {
   "cell_type": "code",
   "execution_count": 32,
   "metadata": {},
   "outputs": [
    {
     "name": "stderr",
     "output_type": "stream",
     "text": [
      "/Users/saito/Desktop/TU WIEN - SS 2025/Data stewardship/Ex2/venv/lib/python3.11/site-packages/keras/src/layers/core/dense.py:87: UserWarning: Do not pass an `input_shape`/`input_dim` argument to a layer. When using Sequential models, prefer using an `Input(shape)` object as the first layer in the model instead.\n",
      "  super().__init__(activity_regularizer=activity_regularizer, **kwargs)\n"
     ]
    }
   ],
   "source": [
    "# Define model architecture\n",
    "nn_model = Sequential([\n",
    "    Dense(15, activation='relu', input_dim=embeddings_train.shape[1]), # Input layer\n",
    "    Dropout(0.2),  # Dropout to avoid overfitting\n",
    "    Dense(10, activation='relu'),  # Intermediate layer\n",
    "    Dropout(0.2),  # Dropout to avoid overfitting\n",
    "    Dense(5, activation='relu'),  # Intermediate layer\n",
    "    Dense(1, activation='sigmoid')  # Output layer (binary classification)\n",
    "])"
   ]
  },
  {
   "cell_type": "code",
   "execution_count": 33,
   "metadata": {},
   "outputs": [
    {
     "name": "stdout",
     "output_type": "stream",
     "text": [
      "Epoch 1/10\n",
      "\u001b[1m114/114\u001b[0m \u001b[32m━━━━━━━━━━━━━━━━━━━━\u001b[0m\u001b[37m\u001b[0m \u001b[1m1s\u001b[0m 3ms/step - accuracy: 0.7142 - loss: 0.6782 - precision: 0.5116 - recall: 0.2003 - val_accuracy: 0.9708 - val_loss: 0.4891 - val_precision: 0.9141 - val_recall: 0.9933\n",
      "Epoch 2/10\n",
      "\u001b[1m114/114\u001b[0m \u001b[32m━━━━━━━━━━━━━━━━━━━━\u001b[0m\u001b[37m\u001b[0m \u001b[1m0s\u001b[0m 2ms/step - accuracy: 0.9581 - loss: 0.3937 - precision: 0.8936 - recall: 0.9771 - val_accuracy: 0.9903 - val_loss: 0.0938 - val_precision: 0.9801 - val_recall: 0.9867\n",
      "Epoch 3/10\n",
      "\u001b[1m114/114\u001b[0m \u001b[32m━━━━━━━━━━━━━━━━━━━━\u001b[0m\u001b[37m\u001b[0m \u001b[1m0s\u001b[0m 3ms/step - accuracy: 0.9867 - loss: 0.0929 - precision: 0.9700 - recall: 0.9866 - val_accuracy: 0.9903 - val_loss: 0.0393 - val_precision: 0.9866 - val_recall: 0.9800\n",
      "Epoch 4/10\n",
      "\u001b[1m114/114\u001b[0m \u001b[32m━━━━━━━━━━━━━━━━━━━━\u001b[0m\u001b[37m\u001b[0m \u001b[1m0s\u001b[0m 3ms/step - accuracy: 0.9957 - loss: 0.0394 - precision: 0.9891 - recall: 0.9961 - val_accuracy: 0.9903 - val_loss: 0.0284 - val_precision: 0.9866 - val_recall: 0.9800\n",
      "Epoch 5/10\n",
      "\u001b[1m114/114\u001b[0m \u001b[32m━━━━━━━━━━━━━━━━━━━━\u001b[0m\u001b[37m\u001b[0m \u001b[1m0s\u001b[0m 3ms/step - accuracy: 0.9962 - loss: 0.0221 - precision: 0.9943 - recall: 0.9926 - val_accuracy: 0.9903 - val_loss: 0.0242 - val_precision: 0.9866 - val_recall: 0.9800\n",
      "Epoch 6/10\n",
      "\u001b[1m114/114\u001b[0m \u001b[32m━━━━━━━━━━━━━━━━━━━━\u001b[0m\u001b[37m\u001b[0m \u001b[1m0s\u001b[0m 3ms/step - accuracy: 0.9966 - loss: 0.0170 - precision: 0.9981 - recall: 0.9901 - val_accuracy: 0.9903 - val_loss: 0.0209 - val_precision: 0.9866 - val_recall: 0.9800\n",
      "Epoch 7/10\n",
      "\u001b[1m114/114\u001b[0m \u001b[32m━━━━━━━━━━━━━━━━━━━━\u001b[0m\u001b[37m\u001b[0m \u001b[1m0s\u001b[0m 3ms/step - accuracy: 0.9992 - loss: 0.0103 - precision: 0.9986 - recall: 0.9988 - val_accuracy: 0.9903 - val_loss: 0.0201 - val_precision: 0.9866 - val_recall: 0.9800\n",
      "Epoch 8/10\n",
      "\u001b[1m114/114\u001b[0m \u001b[32m━━━━━━━━━━━━━━━━━━━━\u001b[0m\u001b[37m\u001b[0m \u001b[1m0s\u001b[0m 3ms/step - accuracy: 0.9990 - loss: 0.0081 - precision: 0.9987 - recall: 0.9980 - val_accuracy: 0.9903 - val_loss: 0.0196 - val_precision: 0.9866 - val_recall: 0.9800\n",
      "Epoch 9/10\n",
      "\u001b[1m114/114\u001b[0m \u001b[32m━━━━━━━━━━━━━━━━━━━━\u001b[0m\u001b[37m\u001b[0m \u001b[1m0s\u001b[0m 3ms/step - accuracy: 0.9990 - loss: 0.0070 - precision: 0.9979 - recall: 0.9985 - val_accuracy: 0.9903 - val_loss: 0.0206 - val_precision: 0.9866 - val_recall: 0.9800\n",
      "Epoch 10/10\n",
      "\u001b[1m114/114\u001b[0m \u001b[32m━━━━━━━━━━━━━━━━━━━━\u001b[0m\u001b[37m\u001b[0m \u001b[1m0s\u001b[0m 3ms/step - accuracy: 1.0000 - loss: 0.0047 - precision: 1.0000 - recall: 1.0000 - val_accuracy: 0.9903 - val_loss: 0.0200 - val_precision: 0.9866 - val_recall: 0.9800\n"
     ]
    },
    {
     "data": {
      "text/plain": [
       "<keras.src.callbacks.history.History at 0x14e691fd0>"
      ]
     },
     "execution_count": 33,
     "metadata": {},
     "output_type": "execute_result"
    }
   ],
   "source": [
    "nn_model.compile(optimizer='adam', loss='binary_crossentropy', metrics=['accuracy', 'precision', 'recall'])\n",
    "\n",
    "nn_model.fit(embeddings_train, y_train, validation_data=(embeddings_val, y_val), epochs=10, batch_size=32)"
   ]
  },
  {
   "cell_type": "code",
   "execution_count": 34,
   "metadata": {},
   "outputs": [
    {
     "name": "stdout",
     "output_type": "stream",
     "text": [
      "2025-04-23 16:47:07,645 absl         WARNING You are saving your model as an HDF5 file via `model.save()` or `keras.saving.save_model(model)`. This file format is considered legacy. We recommend using instead the native Keras format, e.g. `model.save('my_model.keras')` or `keras.saving.save_model(model, 'my_model.keras')`. \n"
     ]
    }
   ],
   "source": [
    "# Save model\n",
    "nn_model.save(\"output/spam_nn_model_v1.h5\")"
   ]
  },
  {
   "cell_type": "markdown",
   "metadata": {},
   "source": [
    "## Model evaluation"
   ]
  },
  {
   "cell_type": "markdown",
   "metadata": {},
   "source": [
    "In this part a pretrained model will be loaded from the `output` directory and evaluated using the test set. The evaluation will be done using accuracy, precision, recall and F1 score."
   ]
  },
  {
   "cell_type": "code",
   "execution_count": 35,
   "metadata": {},
   "outputs": [
    {
     "name": "stdout",
     "output_type": "stream",
     "text": [
      "2025-04-23 16:47:07,672 absl         WARNING Compiled the loaded model, but the compiled metrics have yet to be built. `model.compile_metrics` will be empty until you train or evaluate the model.\n"
     ]
    }
   ],
   "source": [
    "# Load the model\n",
    "nn_model = load_model(\"output/spam_nn_model_v1.h5\")"
   ]
  },
  {
   "cell_type": "code",
   "execution_count": 36,
   "metadata": {},
   "outputs": [
    {
     "name": "stdout",
     "output_type": "stream",
     "text": [
      "\u001b[1m33/33\u001b[0m \u001b[32m━━━━━━━━━━━━━━━━━━━━\u001b[0m\u001b[37m\u001b[0m \u001b[1m0s\u001b[0m 1ms/step \n"
     ]
    }
   ],
   "source": [
    "# Predict the labels\n",
    "y_pred_probs = nn_model.predict(embeddings_test)\n",
    "\n",
    "# Convert probabilities of predictions to classes\n",
    "y_pred_classes = (y_pred_probs > 0.5).astype(int)\n",
    "\n",
    "# Save predicted labels is test_set\n",
    "test_set[\"predicted_label\"] = y_pred_classes"
   ]
  },
  {
   "cell_type": "code",
   "execution_count": 37,
   "metadata": {},
   "outputs": [
    {
     "name": "stdout",
     "output_type": "stream",
     "text": [
      "Accuracy: 0.9865\n",
      "Precision: 0.9855\n",
      "Recall: 0.9644\n",
      "F1 Score: 0.9748\n",
      "[[754   4]\n",
      " [ 10 271]]\n"
     ]
    }
   ],
   "source": [
    "accuracy = accuracy_score(y_test, y_pred_classes)\n",
    "precision = precision_score(y_test, y_pred_classes)\n",
    "recall = recall_score(y_test, y_pred_classes)\n",
    "f1 = f1_score(y_test, y_pred_classes)\n",
    "\n",
    "print(f\"Accuracy: {accuracy:.4f}\")\n",
    "print(f\"Precision: {precision:.4f}\")\n",
    "print(f\"Recall: {recall:.4f}\")\n",
    "print(f\"F1 Score: {f1:.4f}\")\n",
    "\n",
    "cm = confusion_matrix(y_test, y_pred_classes)\n",
    "\n",
    "print(cm)"
   ]
  },
  {
   "cell_type": "markdown",
   "metadata": {},
   "source": [
    "## Result analysis"
   ]
  },
  {
   "cell_type": "markdown",
   "metadata": {},
   "source": [
    "Here we will analyze the results, in order to find some patterns in spam emails."
   ]
  },
  {
   "cell_type": "code",
   "execution_count": 38,
   "metadata": {},
   "outputs": [],
   "source": [
    "# Get all spam predicted correctly\n",
    "predicted_spam = test_set[(test_set[\"label_num\"] == 1) & (test_set[\"predicted_label\"] == 1)]\n",
    "\n",
    "# Combine all messages as a big string\n",
    "all_text = \" \".join(predicted_spam[\"lemmatized_text\"].astype(str).tolist())\n",
    "\n",
    "# Split text by words\n",
    "words = all_text.split()"
   ]
  },
  {
   "cell_type": "code",
   "execution_count": null,
   "metadata": {},
   "outputs": [],
   "source": [
    "# Function to remove words from custom_stopwords (mainly html tags)\n",
    "def is_valid_word(word, custom_stopwords):\n",
    "    word = word.strip().lower()\n",
    "    return (\n",
    "        word.isalpha()              \n",
    "        and len(word) > 2 \n",
    "        and word not in custom_stopwords\n",
    "    )"
   ]
  },
  {
   "cell_type": "code",
   "execution_count": 40,
   "metadata": {},
   "outputs": [
    {
     "data": {
      "text/plain": [
       "[('http', 292),\n",
       " ('com', 148),\n",
       " ('get', 128),\n",
       " ('company', 109),\n",
       " ('price', 106),\n",
       " ('time', 92),\n",
       " ('new', 83),\n",
       " ('stock', 83),\n",
       " ('please', 79),\n",
       " ('good', 77)]"
      ]
     },
     "execution_count": 40,
     "metadata": {},
     "output_type": "execute_result"
    }
   ],
   "source": [
    "# Count words\n",
    "word_counts = Counter(words)\n",
    "\n",
    "# Remove non-informative words (numbers, html tags, etc)\n",
    "custom_stopwords = [\"subject\", \"height\", \"width\", \"align\", \"tr\", \"font\", \"src\", \"href\", \"border\", \"center\"]\n",
    "\n",
    "filtered_word_counts = Counter({\n",
    "    word: count for word, count in word_counts.items()\n",
    "    if is_valid_word(word, custom_stopwords)\n",
    "})\n",
    "\n",
    "# Get top k most common words\n",
    "most_common_words = filtered_word_counts.most_common(10)\n",
    "\n",
    "most_common_words"
   ]
  },
  {
   "cell_type": "code",
   "execution_count": 41,
   "metadata": {},
   "outputs": [
    {
     "data": {
      "image/png": "[encoded data removed]",
      "text/plain": [
       "<Figure size 1000x600 with 1 Axes>"
      ]
     },
     "metadata": {},
     "output_type": "display_data"
    }
   ],
   "source": [
    "words_df = pd.DataFrame(most_common_words, columns=[\"word\", \"count\"])\n",
    "\n",
    "\n",
    "plt.figure(figsize=(10, 6))\n",
    "plt.bar(words_df[\"word\"], words_df[\"count\"])\n",
    "plt.xlabel(\"Frequency\")\n",
    "plt.ylabel(\"Word\")\n",
    "plt.title(\"Most common words on 'SPAM' mails\")\n",
    "plt.gca()\n",
    "plt.show()"
   ]
  },
  {
   "cell_type": "markdown",
   "metadata": {},
   "source": [
    "In this plot we can observe the top 10 most common words in `spam` emails. The words are sorted by their frequency in the spam emails. \n",
    "\n",
    "As we can see `http` and `com` are the most common words in spam emails. This is a clear indication that spam emails are usually related to some kind of advertisement or phishing due to the constant presence of links in the emails.\n"
   ]
  },
  {
   "cell_type": "markdown",
   "metadata": {},
   "source": [
    "## Save results (locally)"
   ]
  },
  {
   "cell_type": "code",
   "execution_count": null,
   "metadata": {},
   "outputs": [
    {
     "data": {
      "image/png": "[encoded data removed]",
      "text/plain": [
       "<Figure size 1000x600 with 1 Axes>"
      ]
     },
     "metadata": {},
     "output_type": "display_data"
    }
   ],
   "source": [
    "# Save the plot of the top 10 most common words on spam mails in the output folder\n",
    "plt.figure(figsize=(10, 6))\n",
    "plt.bar(words_df[\"word\"], words_df[\"count\"])\n",
    "plt.xlabel(\"Frequency\")\n",
    "plt.ylabel(\"Word\")\n",
    "plt.title(\"Most common words on 'SPAM' mails\")\n",
    "plt.gca()\n",
    "plt.savefig(\"output/top10_spam_tokens.png\")"
   ]
  },
  {
   "cell_type": "code",
   "execution_count": null,
   "metadata": {},
   "outputs": [
    {
     "data": {
      "image/png": "[encoded data removed]",
      "text/plain": [
       "<Figure size 800x600 with 2 Axes>"
      ]
     },
     "metadata": {},
     "output_type": "display_data"
    }
   ],
   "source": [
    "# Save a confusion matrix plot in the output folder\n",
    "plt.figure(figsize=(8, 6))\n",
    "sns.heatmap(cm, annot=True, fmt='d', cmap='Blues', xticklabels=[\"HAM\", \"SPAM\"], yticklabels=[\"HAM\", \"SPAM\"])\n",
    "plt.xlabel(\"Predicted Labels\")\n",
    "plt.ylabel(\"True Labels\")\n",
    "plt.title(\"Confusion Matrix spam classifier\")\n",
    "plt.savefig(\"output/confusion_matrix.png\")\n",
    "plt.show()\n"
   ]
  },
  {
   "cell_type": "code",
   "execution_count": 56,
   "metadata": {},
   "outputs": [
    {
     "name": "stdout",
     "output_type": "stream",
     "text": [
      "2025-04-23 16:51:40,866 absl         WARNING You are saving your model as an HDF5 file via `model.save()` or `keras.saving.save_model(model)`. This file format is considered legacy. We recommend using instead the native Keras format, e.g. `model.save('my_model.keras')` or `keras.saving.save_model(model, 'my_model.keras')`. \n"
     ]
    }
   ],
   "source": [
    "# Save model\n",
    "nn_model.save(\"output/spam_nn_model_v1.h5\")\n",
    "\n",
    "# Save metrics\n",
    "with open(\"output/evaluation_metrics.txt\", \"w\") as f:\n",
    "    f.write(\"Spam - Ham Classifier Metrics\\n\")\n",
    "    f.write(\"====================================\\n\")\n",
    "    f.write(f\"Database ID: {database_id}\\n\")\n",
    "    f.write(f\"Train Subset ID: {train_subset_id}\\n\")\n",
    "    f.write(f\"Test Subset ID: {test_subset_id}\\n\")\n",
    "    f.write(f\"Validation Subset ID: {val_subset_id}\\n\")\n",
    "    f.write(\"====================================\\n\")\n",
    "    f.write(f\"Number of training samples: {len(train_set)}\\n\")\n",
    "    f.write(f\"Number of test samples: {len(test_set)}\\n\")\n",
    "    f.write(f\"Number of validation samples: {len(validation_set)}\\n\")\n",
    "    f.write(\"====================================\\n\")\n",
    "    f.write(f\"Accuracy: {accuracy:.4f}\\n\")\n",
    "    f.write(f\"Precision: {precision:.4f}\\n\")\n",
    "    f.write(f\"Recall: {recall:.4f}\\n\")\n",
    "    f.write(f\"F1 Score: {f1:.4f}\")\n",
    "\n",
    "# Save predictions\n",
    "test_set[[\"experiment_id\", \"predicted_label\", \"label_num\"]].to_csv(\"output/test_predictions.csv\", index=False)\n"
   ]
  },
  {
   "cell_type": "markdown",
   "metadata": {},
   "source": [
    "## Upload results to TUWRD"
   ]
  },
  {
   "cell_type": "code",
   "execution_count": 1,
   "metadata": {},
   "outputs": [],
   "source": [
    "access_token = 'your_access_token_here'\n",
    "record_id = \"0e1sf-saz86\"\n",
    "base_url = f\"https://test.researchdata.tuwien.ac.at/api/records/{record_id}/draft\""
   ]
  },
  {
   "cell_type": "markdown",
   "metadata": {},
   "source": [
    "### Initialize File Upload"
   ]
  },
  {
   "cell_type": "code",
   "execution_count": 4,
   "metadata": {},
   "outputs": [
    {
     "name": "stdout",
     "output_type": "stream",
     "text": [
      "{'status': 404, 'message': 'Not found.'}\n"
     ]
    }
   ],
   "source": [
    "endpoint_upload = f\"{base_url}/files\"\n",
    "\n",
    "headers = {\n",
    "    \"Authorization\": f\"Bearer {access_token}\",\n",
    "    \"Content-Type\": \"application/json\"\n",
    "}\n",
    "\n",
    "data = [\n",
    "  {\"key\": \"figure.png\"},\n",
    "  {\"key\": \"article.pdf\"},\n",
    "  {\"key\": \"data.zip\"}\n",
    "]\n",
    "\n",
    "response = requests.post(endpoint_upload, json=data, headers=headers)\n",
    "print(response.json())"
   ]
  },
  {
   "cell_type": "markdown",
   "metadata": {},
   "source": [
    "### Upload File Content"
   ]
  },
  {
   "cell_type": "code",
   "execution_count": 59,
   "metadata": {},
   "outputs": [
    {
     "name": "stdout",
     "output_type": "stream",
     "text": [
      "{'status': 403, 'message': 'Permission denied.'}\n"
     ]
    }
   ],
   "source": [
    "file_names = [\n",
    "    \"confusion_matrix.png\",\n",
    "    \"top10_spam_tokens.png\",\n",
    "    \"spam_nn_model_v1.h5\",\n",
    "    \"evaluation_metrics.txt\",\n",
    "    \"test_predictions.csv\"\n",
    "]\n",
    "\n",
    "headers = {\n",
    "    \"Authorization\": f\"Bearer {access_token}\",\n",
    "    \"Content-Type\": \"application/octet-stream\"\n",
    "}\n",
    "\n",
    "\n",
    "for file_name in file_names:\n",
    "        endpoint_content = f\"{base_url}/files/{file_name}/content\"\n",
    "        with open(f\"output/{file_name}\", \"rb\") as f:\n",
    "            response = requests.put(endpoint_content, data=f, headers=headers)\n",
    "\n",
    "print(response.json())"
   ]
  },
  {
   "cell_type": "markdown",
   "metadata": {},
   "source": [
    "### Commit Draft File Upload"
   ]
  },
  {
   "cell_type": "code",
   "execution_count": 61,
   "metadata": {},
   "outputs": [],
   "source": [
    "for file_name in file_names:\n",
    "        endpoint_commit = f\"{base_url}/files/{file_name}/commit\"\n",
    "        with open(f\"output/{file_name}\", \"rb\") as f:\n",
    "            response = requests.post(endpoint_content, data=f, headers=headers)"
   ]
  }
 ],
 "metadata": {
  "kernelspec": {
   "display_name": "venv",
   "language": "python",
   "name": "python3"
  },
  "language_info": {
   "codemirror_mode": {
    "name": "ipython",
    "version": 3
   },
   "file_extension": ".py",
   "mimetype": "text/x-python",
   "name": "python",
   "nbconvert_exporter": "python",
   "pygments_lexer": "ipython3",
   "version": "3.11.9"
  }
 },
 "nbformat": 4,
 "nbformat_minor": 2
}
